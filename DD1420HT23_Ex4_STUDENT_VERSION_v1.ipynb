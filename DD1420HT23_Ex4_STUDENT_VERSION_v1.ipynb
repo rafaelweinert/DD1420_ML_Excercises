{
  "nbformat": 4,
  "nbformat_minor": 0,
  "metadata": {
    "colab": {
      "provenance": [],
      "toc_visible": true,
      "include_colab_link": true
    },
    "kernelspec": {
      "name": "python3",
      "display_name": "Python 3"
    },
    "language_info": {
      "name": "python"
    }
  },
  "cells": [
    {
      "cell_type": "markdown",
      "metadata": {
        "id": "view-in-github",
        "colab_type": "text"
      },
      "source": [
        "<a href=\"https://colab.research.google.com/github/rafaelweinert/DD1420_ML_Excercises/blob/main/DD1420HT23_Ex4_STUDENT_VERSION_v1.ipynb\" target=\"_parent\"><img src=\"https://colab.research.google.com/assets/colab-badge.svg\" alt=\"Open In Colab\"/></a>"
      ]
    },
    {
      "cell_type": "code",
      "execution_count": null,
      "metadata": {
        "id": "CyPOwZa54XC0"
      },
      "outputs": [],
      "source": [
        "import torch\n",
        "import torchvision\n",
        "import torchvision.transforms as T\n",
        "import numpy as np\n",
        "import matplotlib.pyplot as plt\n",
        "from torch.utils.data import DataLoader\n",
        "import math\n",
        "from typing import List\n",
        "from types import SimpleNamespace\n",
        "from tqdm import tqdm"
      ]
    },
    {
      "cell_type": "markdown",
      "source": [
        "# Exercise 4 - ML & Neural Networks  (DD1420 HT23)\n",
        "\n",
        "## Instructions\n",
        "\n",
        "This Jupyter Notebook contains the exercises for DD1420 **Module 4 ML & Neural Networks**. There are a several problems in this exercise, each broken into numbered subproblems, *e.g.* 1.1.1. The points for each problem are marked *e.g.* $\\color{red}{\\text{(} x \\text{ points)}}$. In total, the exercise is worth **12** points.\n",
        "\n",
        "<br>\n",
        "\n",
        "Students are allowed to work on this exercise in pairs. Make sure you have formed a group in Canvas with your partner. Each student is responsible for following the Code of Conduct. In particular (1) All members of a group are responsible for the group's work, (2) Every student shall honestly disclose any help received and sources used, and (3) Do not copy from other people's solutions. If you need assistance with the exercise, you are encouraged to post a question to the appropriate Discussion Topic or sign up for a help session.\n",
        "\n",
        "<br>\n",
        "\n",
        "Make sure you fill in any place that says `YOUR CODE HERE` or \"YOUR ANSWER HERE\" and delete `raise NotImplementedError()` once you have implemented the solution.\n",
        "\n",
        "<br>\n",
        "\n",
        "You should not import any libraries on top of the ones included in the assignment. Derivation questions can be answered using $\\LaTeX$, or you may upload an image of your derivation. To do so in *Google Colab* simply create a text cell, click on the `insert image` icon, and upload an image to the notebook as we have demonstrated below.\n",
        "\n",
        "<br>\n",
        "\n",
        "**Submission** - once you have completed the exercise make sure everything runs as expected by going into `Runtime` -> `Restart and Run all`. Then download the notebook by clicking `file` -> `download` -> `download .ipynb`. Then **rename the file to include your name** (and **your partner's name** if you have one) as follows\n",
        "\n",
        "<br>\n",
        "\n",
        "`Ex??_LASTNAME_FIRSTNAME_and_LASTNAME_FIRSTNAME.ipynb`\n",
        "\n",
        "<br>\n",
        "\n",
        "where you replace `??` with the correct exercise number. If you are working alone you do not need to include a partner name.\n",
        "\n",
        "<br>\n",
        "\n",
        "Good luck!"
      ],
      "metadata": {
        "id": "6qAAcLodvTJP"
      }
    },
    {
      "cell_type": "markdown",
      "source": [
        "![h.png](data:image/png;base64,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)"
      ],
      "metadata": {
        "id": "zrWp2PC1xZVP"
      }
    },
    {
      "cell_type": "markdown",
      "source": [
        "#Name\n",
        "**Fill in your name and your partner's name below** (and name the `.ipynb` file correctly):\n",
        "\n",
        "<br>\n",
        "\n",
        "### Student 1:\n",
        "\n",
        "### Student 2:"
      ],
      "metadata": {
        "id": "UXg_sN5axwZv"
      }
    },
    {
      "cell_type": "markdown",
      "source": [
        "# 4.1 Training a neural network with backpropagation  (12 points)"
      ],
      "metadata": {
        "id": "mYu49AwLUR1j"
      }
    },
    {
      "cell_type": "markdown",
      "source": [
        "In this exercise we will once again train a machine learning algorithm to classify handwritten digits from MNISt, although this time we will use a bigger version with $64 \\times 64$ images and 60,000 examples.\n",
        "\n",
        "<br>\n",
        "\n",
        "We will make use of [PyTorch](https://pytorch.org/) which is a popular machine learning framework for developing neural networks. You will not be expected to write PyTorch-specific code in this exercise, just standard numpy and Python. You won't need to follow along with what PyTorch is doing - we try to explain the important bits.\n",
        "\n",
        "<br>\n",
        "\n",
        "The first thing we will do is load the MNIST handwritten digits dataset,"
      ],
      "metadata": {
        "id": "S2KGtXp81JAa"
      }
    },
    {
      "cell_type": "code",
      "source": [
        "# these are pytorch's dataset class. it downloads and sets up the dataset\n",
        "mnist_train = torchvision.datasets.MNIST(root=\"data\",\n",
        "                                         train=True,\n",
        "                                         download=True,\n",
        "                                         transform=T.Compose([T.ToTensor(),\n",
        "                                                              T.Lambda(lambda x: torch.flatten(x)),\n",
        "                                                              ]),\n",
        "                                         )\n",
        "mnist_test = torchvision.datasets.MNIST(root=\"data\",\n",
        "                                        train=False,\n",
        "                                        download=True,\n",
        "                                        transform=T.Compose([T.ToTensor(),\n",
        "                                                             T.Lambda(lambda x: torch.flatten(x)),\n",
        "                                                             ]),\n",
        "                                        )"
      ],
      "metadata": {
        "id": "7DFdyBTG4d7i"
      },
      "execution_count": null,
      "outputs": []
    },
    {
      "cell_type": "markdown",
      "source": [
        "We use something called a `dataloader` class from PyTorch, which handles feeding data from the dataset to the network. It does things like shuffle the data and yield samples.\n",
        "\n"
      ],
      "metadata": {
        "id": "PxHPxuKL2vd2"
      }
    },
    {
      "cell_type": "code",
      "source": [
        "# these are pytorch's dataloader class. they shuffle and yield sample points\n",
        "# for us. you don't have to code data manipulations yourself in this exercise\n",
        "train_loader = DataLoader(mnist_train, batch_size=1, shuffle=True)\n",
        "val_loader = DataLoader(mnist_test, batch_size=1, shuffle=True)"
      ],
      "metadata": {
        "id": "oI6ND37D7Bph"
      },
      "execution_count": null,
      "outputs": []
    },
    {
      "cell_type": "markdown",
      "source": [
        "Next we will define the size of our neural network, which will have $L = 3$ layers of width $m_{\\ell=\\{1,\\dots,L\\}} = \\{784, 30, 10\\}$"
      ],
      "metadata": {
        "id": "9RkrRYpLU6PB"
      }
    },
    {
      "cell_type": "code",
      "source": [
        "# hyperparameters. sets up the network dimensions\n",
        "# how many nodes in each\n",
        "layers_list = [784, 30, 10]\n",
        "L = len(layers_list)"
      ],
      "metadata": {
        "id": "f2eq-qVn6iDM"
      },
      "execution_count": null,
      "outputs": []
    },
    {
      "cell_type": "markdown",
      "source": [
        "We will define a function that will rescale our random weights to a distribution that has been proven to be a better initialization than just a standard `randn` distribution. The Xavier initialization simply divides the randomly initialized weights of each layer by the square root of the input size $\\sqrt{k}$."
      ],
      "metadata": {
        "id": "iQSlKHbhVj2h"
      }
    },
    {
      "cell_type": "code",
      "source": [
        "def initialization_scaling(weight_matrix):\n",
        "  \"\"\"\n",
        "  This implements Xavier initialization. It helps training of deep networks.\n",
        "  \"\"\"\n",
        "  input_size = weight_matrix.shape[0]\n",
        "  return weight_matrix / math.sqrt(input_size)"
      ],
      "metadata": {
        "id": "OsedR7cLViJx"
      },
      "execution_count": null,
      "outputs": []
    },
    {
      "cell_type": "markdown",
      "source": [
        "**4.1.1** *Complete the function provided below that creates a single layer of a neural network. Given the input size and the ouptut size this function should create the weight matrix and bias vector with random initialization. If the `scaled_init` flag is `True` it should apply the Xavier scaled defined above. The bias vector should be initialized to zero.* $\\color{red}{\\text{(1 point)}}$"
      ],
      "metadata": {
        "id": "EnvElKxUZkLC"
      }
    },
    {
      "cell_type": "code",
      "source": [
        "def create_single_layer(input_size: int, output_size: int, scaled_init=False):\n",
        "  \"\"\"\n",
        "  Create a single layer\n",
        "  output: a layer object. weights and biases are in layer.weight and layer.bias\n",
        "\n",
        "  Usage:\n",
        "    layer = create_single_layer(784, 10)\n",
        "    layer_weight_matrix = layer.weight\n",
        "    layer_bias_vector = layer.bias\n",
        "  \"\"\"\n",
        "  ### YOUR CODE HERE ###\n",
        "\n",
        "  if scaled_init:\n",
        "    weight_matrix = ### YOUR CODE HERE ###\n",
        "\n",
        "  # The output being a SimpleNamespace is just a coding convenience. It\n",
        "  # emulates how we access the weights and biases in pytorch.\n",
        "  # without this we would have to access weights using layers[0][0],\n",
        "  # with this we can do layers[0].weight so that it is a bit more readable\n",
        "  return SimpleNamespace(weight=weight_matrix, bias=bias_vector)"
      ],
      "metadata": {
        "id": "wV8V6KLyclF4"
      },
      "execution_count": null,
      "outputs": []
    },
    {
      "cell_type": "markdown",
      "source": [
        "**4.1.2** *Complete the function provided below that creates all the layers of the neural network using the function you created in 4.1.1. The `layers_list` contains a list of layer widths for each layer. Loop through that list, create each layer, and append it to a `layers` list. The function should output `layers`, a list of initialized layers.* $\\color{red}{\\text{(1 point)}}$"
      ],
      "metadata": {
        "id": "nqGGTwudc8Yh"
      }
    },
    {
      "cell_type": "code",
      "source": [
        "def create_layers(layers_list: List):\n",
        "  \"\"\"\n",
        "  Creates the weights and biases if layers according to the given list\n",
        "  output: a list of layers\n",
        "\n",
        "  Usage:\n",
        "    layers = create_layers(layers_list)\n",
        "    some_layer = layers[np.random.randint(L)]\n",
        "  \"\"\"\n",
        "\n",
        "  #To match the Lecture notation we start with idx=1, i.e. there is no W^(0) or b^(0)\n",
        "  layers = [None]\n",
        "  for idx in range(L-1):\n",
        "      ### YOUR CODE HERE###\n",
        "  return layers"
      ],
      "metadata": {
        "id": "iDJCxziZf-8W"
      },
      "execution_count": null,
      "outputs": []
    },
    {
      "cell_type": "markdown",
      "source": [
        "Next, we provide you with code for the logistic sigmoid activation function `sigmoid` and its derivative `sigmoid_prime` which should be applied to pre-activations."
      ],
      "metadata": {
        "id": "J8g38yBQgn1u"
      }
    },
    {
      "cell_type": "code",
      "source": [
        "def sigmoid(z):\n",
        "  \"\"\"\n",
        "  The sigmoid function\n",
        "  Usage:\n",
        "    activation_output = sigmoid(some_input)\n",
        "  \"\"\"\n",
        "  return 1.0/(1.0+np.exp(-z))\n",
        "\n",
        "def sigmoid_prime(z):\n",
        "  \"\"\"\n",
        "  $\\sigma\\prime$ in the lecture notes\n",
        "  \"\"\"\n",
        "  return sigmoid(z)*(1-sigmoid(z))"
      ],
      "metadata": {
        "id": "Bi3-sKWPgmaY"
      },
      "execution_count": null,
      "outputs": []
    },
    {
      "cell_type": "markdown",
      "source": [
        "**4.1.3** *Complete the following functions that the define the MSE loss (the loss for a single sample $\\ell_{MSE}$) and its derivative.* $\\color{red}{\\text{(1 point)}}$\n",
        "\n",
        "Note that this is not a very good choice of a loss for classification, but the derivative is easier to calculate and code and it will give reasonable results on MNIST."
      ],
      "metadata": {
        "id": "2O4h6HCDhQBf"
      }
    },
    {
      "cell_type": "code",
      "source": [
        "def loss_fn(y_hat, y):\n",
        "  \"\"\"\n",
        "  This is the MSE loss for a single sample.\n",
        "  \"\"\"\n",
        "  ### YOUR CODE HERE ###\n",
        "\n",
        "\n",
        "def dloss_dyhat(y_hat, y):\n",
        "  \"\"\"\n",
        "  Gradient of the MSE loss for a single sample.\n",
        "  \"\"\"\n",
        "  ### YOUR CODE HERE ###\n"
      ],
      "metadata": {
        "id": "tvPnL__SiCrG"
      },
      "execution_count": null,
      "outputs": []
    },
    {
      "cell_type": "markdown",
      "source": [
        "Next, we will start to define some of the essential functions for training the neural network. We will start with a function for the pre-activations $z^{(\\ell)}$ and the activations $a^{(\\ell)}$."
      ],
      "metadata": {
        "id": "PEhUN0gcTwX6"
      }
    },
    {
      "cell_type": "markdown",
      "source": [
        "**4.1.4**.  *Complete the function below that returns the preactivation given the layers weight matrix $W^{(\\ell)}$, bias vector $b^{(\\ell)}$ and the previous layers activation $a^{(\\ell-1)}$.* $\\color{red}{\\text{(1 point)}}$"
      ],
      "metadata": {
        "id": "P1KKtWK2UPT8"
      }
    },
    {
      "cell_type": "markdown",
      "source": [
        "hint: [The @ operator can be used as a shorthand for np.matmul on ndarrays.](https://numpy.org/doc/stable/reference/generated/numpy.matmul.html)"
      ],
      "metadata": {
        "id": "OhfhG55u2QUa"
      }
    },
    {
      "cell_type": "code",
      "source": [
        "def calculate_preactivation(layer_weight, layer_bias, previous_activation):\n",
        "  ### YOUR CODE HERE ###\n",
        "  return z"
      ],
      "metadata": {
        "id": "5e_UMK6zVDcF"
      },
      "execution_count": null,
      "outputs": []
    },
    {
      "cell_type": "markdown",
      "source": [
        "A quick sanity check."
      ],
      "metadata": {
        "id": "68uWRZlJbDJf"
      }
    },
    {
      "cell_type": "code",
      "source": [
        "W = np.array([[2,-2], [-3,-1], [1, -3]])\n",
        "b = np.array([[-1], [0], [0]])\n",
        "a = np.array([[2],[-2]])\n",
        "calculate_preactivation(W,b,a)"
      ],
      "metadata": {
        "id": "rezS2g61aMZH"
      },
      "execution_count": null,
      "outputs": []
    },
    {
      "cell_type": "markdown",
      "source": [
        "**4.1.5**.  *Complete the function below that returns the activation of a layer given the preactivation $z^{(\\ell)}$.* $\\color{red}{\\text{(1 point)}}$"
      ],
      "metadata": {
        "id": "UMqazgg6VTws"
      }
    },
    {
      "cell_type": "code",
      "source": [
        "def calculate_activation(z):\n",
        "  ### YOUR CODE HERE ###"
      ],
      "metadata": {
        "id": "TNJhCb0DVjik"
      },
      "execution_count": null,
      "outputs": []
    },
    {
      "cell_type": "markdown",
      "source": [
        "A quick sanity check."
      ],
      "metadata": {
        "id": "zlXsCHwkbVpn"
      }
    },
    {
      "cell_type": "code",
      "source": [
        "z = np.array([[-1], [0], [1]])\n",
        "calculate_activation(z)"
      ],
      "metadata": {
        "id": "tYcI_AOebXpJ"
      },
      "execution_count": null,
      "outputs": []
    },
    {
      "cell_type": "markdown",
      "source": [
        "**4.1.6.** *Write a function that computes and returns the gradient of the last layer $g^{(L)}$. You should make use of some previous functions you have written. You may need to use `.squeeze()` to ensure dimensions match.* $\\color{red}{\\text{(1 point)}}$"
      ],
      "metadata": {
        "id": "El433SRzWPNS"
      }
    },
    {
      "cell_type": "code",
      "source": [
        "def calculate_g_L(y, a, z):\n",
        "  dy_hat = dloss_dyhat(a, y)\n",
        "  return dy_hat @ np.diag(sigmoid_prime(z).squeeze())"
      ],
      "metadata": {
        "id": "M07_HvchWstG"
      },
      "execution_count": null,
      "outputs": []
    },
    {
      "cell_type": "markdown",
      "source": [
        "A quick sanity check.\n"
      ],
      "metadata": {
        "id": "EBhWqT0ScoYw"
      }
    },
    {
      "cell_type": "code",
      "source": [
        "y = np.ones((5,1))\n",
        "a = np.zeros((5,1))\n",
        "z = np.ones((5,1))\n",
        "calculate_g_L(y,a,z)\n"
      ],
      "metadata": {
        "id": "TMlqDte5A4Qo"
      },
      "execution_count": null,
      "outputs": []
    },
    {
      "cell_type": "markdown",
      "source": [
        "**4.1.7.** *Write a function that computes and returns the gradient of an aribtrary layer $g^{(\\ell)}$ (except $L$). You may need to use `.squeeze()` to ensure dimensions match.* $\\color{red}{\\text{(1 point)}}$"
      ],
      "metadata": {
        "id": "JGTGO78VYHVh"
      }
    },
    {
      "cell_type": "code",
      "source": [
        "def calculate_g_l(g_l_previous, layer_weight_previous, z):\n",
        "  ### YOUR CODE HERE ###\n",
        "  return g_l"
      ],
      "metadata": {
        "id": "T7vktrWkfX91"
      },
      "execution_count": null,
      "outputs": []
    },
    {
      "cell_type": "markdown",
      "source": [
        "A quick sanity check.\n"
      ],
      "metadata": {
        "id": "p3k8NDy3faGr"
      }
    },
    {
      "cell_type": "code",
      "source": [
        "y = np.ones((5,1))\n",
        "a = np.zeros((5,1))\n",
        "z = np.ones((5,1))\n",
        "g_L = calculate_g_L(y,a,z)\n",
        "W = np.ones((5,5))\n",
        "z = np.ones((5,1))\n",
        "g_l = calculate_g_l(g_L,W,z)\n",
        "g_l"
      ],
      "metadata": {
        "id": "l1RNv59rftMQ"
      },
      "execution_count": null,
      "outputs": []
    },
    {
      "cell_type": "markdown",
      "source": [
        "**4.1.8.** *Write a function that computes and returns the gradient of the loss w.r.t. the weights $\\nabla_{W^{(\\ell)}} J$ given the gradient $g^{(\\ell)}$ and the activations from the next layer $a^{(\\ell-1)}$.* $\\color{red}{\\text{(1 point)}}$"
      ],
      "metadata": {
        "id": "-oNk_Zn2iElA"
      }
    },
    {
      "cell_type": "code",
      "source": [
        "def calculate_nabla_weight(g_l, a_next):\n",
        "  ### YOUR CODE HERE ###"
      ],
      "metadata": {
        "id": "UXqKGG3Civgl"
      },
      "execution_count": null,
      "outputs": []
    },
    {
      "cell_type": "markdown",
      "source": [
        "A quick sanity check."
      ],
      "metadata": {
        "id": "Htx3_ABRjK8x"
      }
    },
    {
      "cell_type": "code",
      "source": [
        "g_l = np.ones((1,5))\n",
        "a_next = np.ones((3,1))\n",
        "nabW = calculate_nabla_weight(g_l, a_next)\n",
        "nabW"
      ],
      "metadata": {
        "id": "-b8j-Ti0jNGj"
      },
      "execution_count": null,
      "outputs": []
    },
    {
      "cell_type": "markdown",
      "source": [
        "**4.1.9.** *Write a function that computes and returns the gradient of the loss w.r.t. the bias $\\nabla_{b^{(\\ell)}} J$ given the gradient $g^{(\\ell)}$ and the activations from the next layer $a^{(\\ell-1)}$.* $\\color{red}{\\text{(1 point)}}$"
      ],
      "metadata": {
        "id": "mmJGMFxkj-W0"
      }
    },
    {
      "cell_type": "code",
      "source": [
        "def calculate_nabla_bias(g_l):\n",
        "  ### YOUR CODE HERE"
      ],
      "metadata": {
        "id": "ZC2ohnICkNY0"
      },
      "execution_count": null,
      "outputs": []
    },
    {
      "cell_type": "markdown",
      "source": [
        "A quick sanity check"
      ],
      "metadata": {
        "id": "-WVHiit3kZuE"
      }
    },
    {
      "cell_type": "code",
      "source": [
        "g_l = np.ones((1,5))\n",
        "nabb = calculate_nabla_bias(g_l)\n",
        "nabb"
      ],
      "metadata": {
        "id": "vZeDF0pAkcqE"
      },
      "execution_count": null,
      "outputs": []
    },
    {
      "cell_type": "markdown",
      "source": [
        "Great! We are finally ready to put everything together and train the neural network. We have provided most of the code for you.\n",
        "\n",
        "<br>\n",
        "\n",
        "**4.1.10.** *Insert the functions you have defined in **4.1.2** and **4.1.5** through **4.1.9** in the correct places in the following code. Then run the code to train the neural network to classify handwritten digits.* $\\color{red}{\\text{(3 points)}}$"
      ],
      "metadata": {
        "id": "aXZokN08kw6g"
      }
    },
    {
      "cell_type": "code",
      "source": [
        "# initialization = create the layers\n",
        "layers = ### YOUR CODE HERE ###\n",
        "lr = 3.0\n",
        "# this is one epoch\n",
        "# ====== loop through 1 epoch using the data loader =====\n",
        "for (x, y) in tqdm(train_loader, desc=f'Epoch progress'):\n",
        "  # we used pytorch loaders, convert back to numpy and proper shape\n",
        "  x = x.numpy().T\n",
        "  # our network uses one_hot encoding to classify the digit so\n",
        "  # we convert the target to a one_hot encoding\n",
        "  y = torch.nn.functional.one_hot(y,num_classes=10).numpy().T\n",
        "  # actual updates occur here\n",
        "  activation = x\n",
        "  # set up the variables for saving the a & z values\n",
        "  # a^(0) is set to x\n",
        "  activations = [activation]\n",
        "  # z^(0) does not exist so we store a None for it\n",
        "  pre_activations = [None]\n",
        "\n",
        "  # ====== do forward propagation =====\n",
        "  # looping through the layers, computing and storing activations & pre-activations\n",
        "  for layer in layers[1:]: #since layers[0] does not exist/is None\n",
        "    pre_activation = ### YOUR CODE HERE ###\n",
        "    activation = ### YOUR CODE HERE ###\n",
        "    # store these for the backprop\n",
        "    pre_activations.append(pre_activation)\n",
        "    activations.append(activation)\n",
        "\n",
        "  # ===== do backpropagation =====\n",
        "  # setting up record keeping of the gradients, nabla_weights and nabla_biases\n",
        "  # note that we have no gradients for W^(0) since we index starting at 1\n",
        "  g_ls = [None]\n",
        "  nabla_weights = [None]\n",
        "  nabla_biases = [None]\n",
        "  g_ls.extend([np.zeros((1, m)) for m in layers_list] )\n",
        "  nabla_weights.extend([np.zeros_like(layer.weight) for layer in layers[1:]])\n",
        "  nabla_biases.extend([np.zeros_like(layer.bias) for layer in layers[1:]])\n",
        "\n",
        "  # looping through the layers, compute gradients and nabla's\n",
        "  for l in range(L-1, 0, -1):\n",
        "    # g^L is calculated differently, so we check and handle that first\n",
        "    if l == L-1:\n",
        "      g_ls[l] = ### YOUR CODE HERE ###\n",
        "    else:\n",
        "      g_ls[l] = ### YOUR CODE HERE ###\n",
        "    nabla_weights[l] = #### YOUR CODE HERE ###\n",
        "    nabla_biases[l] = ### YOUR CODE HERE ###\n",
        "\n",
        "  # update the weights with the lr according to SGD algorithm\n",
        "  for l in range(L-1, 0, -1):\n",
        "    layers[l].weight = ### YOUR CODE HERE ###\n",
        "    layers[l].bias = ### YOUR CODE HERE ###"
      ],
      "metadata": {
        "id": "3pzRyGZ1njAN"
      },
      "execution_count": null,
      "outputs": []
    },
    {
      "cell_type": "markdown",
      "source": [
        "Run the following code to make a forward pass over the test to see how it performed."
      ],
      "metadata": {
        "id": "KvLPS6AonYOQ"
      }
    },
    {
      "cell_type": "code",
      "source": [
        "# create a forward function for evaluation, without backprop\n",
        "def forward(layers, x):\n",
        "  \"\"\"\n",
        "  Forward propagation.\n",
        "  \"\"\"\n",
        "  activation = x\n",
        "  for layer in layers[1:]: #since layers[0] does not exist\n",
        "    activation = sigmoid(layer.weight @ activation +layer.bias)\n",
        "  return activation\n",
        "\n",
        "# Evaluate\n",
        "test_results = []\n",
        "for (x,y) in val_loader:\n",
        "  x = x.numpy().T\n",
        "  y = y.numpy().T\n",
        "  test_results.append((np.argmax(forward(layers, x)), y))\n",
        "\n",
        "accuracy = sum(int(x == y) for (x, y) in test_results)/len(test_results)*100\n",
        "print(accuracy)"
      ],
      "metadata": {
        "id": "VmowS071lWTf"
      },
      "execution_count": null,
      "outputs": []
    },
    {
      "cell_type": "markdown",
      "source": [
        "And we can visualize some of our predictions with the code below"
      ],
      "metadata": {
        "id": "U7gTXm5Sp9fR"
      }
    },
    {
      "cell_type": "code",
      "source": [
        "# and show an example\n",
        "x, y = next(iter(val_loader))\n",
        "x = x.numpy().T\n",
        "y = y.numpy().T\n",
        "plt.title(f'Prediction is {np.argmax(forward(layers, x))}')\n",
        "plt.imshow(x.reshape(28,28), cmap='gray');"
      ],
      "metadata": {
        "id": "U0n-2NGxqAyv"
      },
      "execution_count": null,
      "outputs": []
    }
  ]
}