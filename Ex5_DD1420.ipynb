{
  "cells": [
    {
      "cell_type": "markdown",
      "metadata": {
        "colab_type": "text",
        "id": "view-in-github"
      },
      "source": [
        "<a href=\"https://colab.research.google.com/github/rafaelweinert/DD1420_ML_Excercises/blob/main/Ex5_DD1420.ipynb\" target=\"_parent\"><img src=\"https://colab.research.google.com/assets/colab-badge.svg\" alt=\"Open In Colab\"/></a>"
      ]
    },
    {
      "cell_type": "code",
      "execution_count": 12,
      "id": "b5aaa56c",
      "metadata": {
        "id": "b5aaa56c"
      },
      "outputs": [],
      "source": [
        "import numpy as np\n",
        "import matplotlib.pyplot as plt\n",
        "import pandas as pd\n",
        "import random\n",
        "\n",
        "import sklearn.datasets\n",
        "import sklearn.manifold\n",
        "import sklearn.cluster\n",
        "import sklearn.decomposition\n",
        "import skimage.filters\n",
        "\n",
        "import torchvision\n",
        "import torchvision.transforms as T\n",
        "\n",
        "import scipy.ndimage\n",
        "import scipy.sparse\n",
        "import scipy.spatial.distance\n",
        "\n",
        "from tqdm.notebook import tqdm, trange\n",
        "\n",
        "\n",
        "\n",
        "# FIX RANDOM SEED\n",
        "RANDOM_SEED = 239\n",
        "random.seed(RANDOM_SEED)\n",
        "np.random.seed(RANDOM_SEED + 1)\n",
        "\n",
        "%matplotlib inline"
      ]
    },
    {
      "cell_type": "markdown",
      "id": "e3fa7e02",
      "metadata": {
        "id": "e3fa7e02"
      },
      "source": [
        "# General Instructions"
      ]
    },
    {
      "cell_type": "markdown",
      "id": "b1a6d0a1",
      "metadata": {
        "id": "b1a6d0a1"
      },
      "source": [
        "Students are allowed to work on this exercise in pairs. Make sure you have formed a group in Canvas with your partner. Each student is responsible for following the [Code of Conduct](https://kth.instructure.com/courses/32018/pages/code-of-conduct). In particular (1) All members of a group are responsible for the group's work, (2) Every student shall honestly disclose any help received and sources used, and (3) Do not copy from other people's solutions.\n",
        "\n",
        "If you need assistance with the exercise, you are encouraged to post a question to the appropriate [Discussion Topic](https://kth.instructure.com/courses/32018/discussion_topics) or sign up for a help session.\n",
        "\n",
        "<br>\n",
        "\n",
        "Make sure you fill in any place that says `YOUR CODE HERE` or \"YOUR ANSWER HERE\" and delete the `raise NotImplementedError()` once you have implemented the solution.\n",
        "\n",
        "<br>\n",
        "\n",
        "You should not import any libraries on top of the ones included in the assignment. Derivation questions can be answered using $\\LaTeX$, or you may upload an image of your derivation. To do so in *Google Colab* simply create a text cell, click on the `insert image` icon, and upload an image to the notebook as we have demonstrated below.\n",
        "\n",
        "<br>\n",
        "\n",
        "**Submission** - once you have completed the exercise make sure everything runs as expected by going into `Runtime` -> `Restart and Run all` then download the notebook by clicking `file` -> `download` -> `download .ipynb`. Then **rename the file to include your name** (and **your partner's name** if you have one) as follows\n",
        "\n",
        "<br>\n",
        "\n",
        "`Ex??_LASTNAME_FIRSTNAME_and_LASTNAME_FIRSTNAME.ipynb`\n",
        "\n",
        "<br>\n",
        "\n",
        "where you replace `??` with the correct exercise number. If you are working alone you do not need to include a partner name. Correctly naming the file and including your name (and your partner's) below is worth **1 point** - if you fail to correctly name the file or include your partner's name, *you will lose this point*.\n",
        "\n",
        "<br>\n",
        "\n",
        "Good luck!"
      ]
    },
    {
      "cell_type": "markdown",
      "id": "582114ad",
      "metadata": {
        "id": "582114ad"
      },
      "source": [
        "# Name (1 pts)\n",
        "**Fill in your name and your partner's name below** (and name the `.ipynb` file correctly): <font color=\"red\"> (1 Point) </font>"
      ]
    },
    {
      "cell_type": "markdown",
      "id": "216d7b0e",
      "metadata": {
        "id": "216d7b0e"
      },
      "source": [
        "### Weinert, Rafael\n",
        "\n",
        "### Deckenbach, Katharina"
      ]
    },
    {
      "cell_type": "markdown",
      "id": "9ee395a6",
      "metadata": {
        "id": "9ee395a6"
      },
      "source": [
        "---"
      ]
    },
    {
      "cell_type": "markdown",
      "id": "7c9abbbd",
      "metadata": {
        "id": "7c9abbbd"
      },
      "source": [
        "# Exercise 5: Machine Learning and Geometry\n",
        "\n",
        "In this exercise, we will touch upon the more geometry-oriented side of Machine Learning. In particular, we will focus on dimensionality reduction techniques, investigate the importance of selecting the right metric, and revisit the topic of clustering.\n",
        "\n",
        "In total, the exercise is worth 25 points."
      ]
    },
    {
      "cell_type": "markdown",
      "id": "062926de",
      "metadata": {
        "id": "062926de"
      },
      "source": [
        "### 8.0 Data loading\n",
        "\n",
        "We start by loading an already familiar dataset MNIST of 0-9 digit images. This time we will work with original images of size $(28, 28)$, however for the purpose of the exercise we will only consider a small subset of 500 images of only digits __1__ and __6__."
      ]
    },
    {
      "cell_type": "code",
      "execution_count": 13,
      "id": "3e5fe0a1",
      "metadata": {
        "id": "3e5fe0a1"
      },
      "outputs": [
        {
          "name": "stdout",
          "output_type": "stream",
          "text": [
            "Data shape: (500, 784)\n"
          ]
        }
      ],
      "source": [
        "def load_data():\n",
        "    # MNIST is conveniently available in the `pytorch` library\n",
        "    dataset = torchvision.datasets.MNIST(\n",
        "        root=\"data\",\n",
        "        train=True,\n",
        "        download=True,\n",
        "        transform=T.Compose([T.ToTensor(), T.Lambda(lambda x: torch.flatten(x))]),\n",
        "    )\n",
        "    data, labels = dataset.data.numpy(), dataset.targets.numpy()\n",
        "    data = data.reshape((data.shape[0], -1))\n",
        "    return data, labels\n",
        "\n",
        "data, labels = load_data()\n",
        "\n",
        "image_shape = (28, 28)\n",
        "\n",
        "# We only consider digits 1 and 6 in this exercise\n",
        "digit1 = 1\n",
        "digit2 = 6\n",
        "\n",
        "data = data[(labels == digit1) | (labels == digit2)]\n",
        "labels = labels[(labels == digit1) | (labels == digit2)]\n",
        "\n",
        "# We also only pick the first 500 points from the dataset\n",
        "N = 500\n",
        "dim = 28 * 28\n",
        "data = data[:N]\n",
        "labels = labels[:N]\n",
        "\n",
        "# Set the writeable flags to false, we do not want to modify the original data by accident\n",
        "data.flags.writeable = False\n",
        "labels.flags.writeable = False\n",
        "\n",
        "print(f'Data shape: {data.shape}')\n"
      ]
    },
    {
      "cell_type": "markdown",
      "id": "95b52443",
      "metadata": {
        "id": "95b52443"
      },
      "source": [
        "Let us also plot a few examples of the images. We will also reuse this function later."
      ]
    },
    {
      "cell_type": "code",
      "execution_count": 14,
      "id": "87b34125",
      "metadata": {
        "id": "87b34125"
      },
      "outputs": [
        {
          "name": "stdout",
          "output_type": "stream",
          "text": [
            "Data examples:\n"
          ]
        },
        {
          "data": {
            "image/png": "[encoded data removed]",
            "text/plain": [
              "<Figure size 720x72 with 10 Axes>"
            ]
          },
          "metadata": {
            "needs_background": "light"
          },
          "output_type": "display_data"
        }
      ],
      "source": [
        "def plot_examples(X, n_samples=10):\n",
        "    \"\"\"\n",
        "    Plot the first few images of the dataset.\n",
        "\n",
        "    Args:\n",
        "        X:         data array of size (N, dim)\n",
        "        n_samples: the number of images to display\n",
        "    \"\"\"\n",
        "    assert X.shape == (N, dim)\n",
        "    plt.subplots(1, n_samples, figsize=(1 * n_samples, 1))\n",
        "\n",
        "    for i in range(n_samples):\n",
        "        plt.subplot(1, n_samples, i + 1)\n",
        "        plt.imshow(X[i].reshape(image_shape), cmap='gray')\n",
        "        plt.axis('off')\n",
        "    plt.show()\n",
        "\n",
        "print('Data examples:')\n",
        "plot_examples(data)"
      ]
    },
    {
      "cell_type": "markdown",
      "id": "d88ccb11",
      "metadata": {
        "id": "d88ccb11"
      },
      "source": [
        "As the final preparation step, here is a simple shortcut method to display a 2-dimensional point cloud in a currently selected plot."
      ]
    },
    {
      "cell_type": "code",
      "execution_count": 15,
      "id": "fbab66ea",
      "metadata": {
        "id": "fbab66ea"
      },
      "outputs": [],
      "source": [
        "def plot_embedding(embedding, labels, title=None, legend=True):\n",
        "    \"\"\"\n",
        "    Plot the 2-dimensional point cloud.\n",
        "\n",
        "    Args:\n",
        "        embedding (ndarray): data array of size (N, 2)\n",
        "        labels (ndarray):    point labels used for coloring, size (N, )\n",
        "        title (str):         optional title of the plot\n",
        "        legend (bool):       whether to include the plot legend\n",
        "    \"\"\"\n",
        "    assert embedding.shape[1] == 2\n",
        "    scatter = plt.scatter(*embedding.T, c=labels, alpha=0.5, cmap='tab10')\n",
        "    if legend:\n",
        "        handles, labels = scatter.legend_elements(prop=\"colors\", alpha=0.6)\n",
        "        plt.legend(handles, labels)\n",
        "    plt.axis('equal')\n",
        "    if title is not None:\n",
        "        plt.title(title)"
      ]
    },
    {
      "cell_type": "markdown",
      "id": "0ced3cb1",
      "metadata": {
        "id": "0ced3cb1"
      },
      "source": [
        "### 8.1 Dimensionality reduction: Principal Component Analysis (10 points)"
      ]
    },
    {
      "cell_type": "markdown",
      "id": "3a6e3276",
      "metadata": {
        "id": "3a6e3276"
      },
      "source": [
        "We start by looking at the most classical way of performing the dimensionality reduction, performed via Principal Component Analysis, or PCA.\n",
        "\n",
        "PCA considers the \"principal\" directions in the input space, along which the data has the highest variation. Those components are given by the eigenvectors of data covariance matrix, and are sorted according to the decreasing order of corresponding eigenvalues.\n",
        "\n",
        "**Task 8.1.1.** Implement the method `extract_principal_components` below which extracts the projections of the data points onto selected principal components. The method would essentially consist of 3 steps:\n",
        "1. Compute data covariance matrix\n",
        "2. Compute eigenvectors of the matrix\n",
        "3. Compute projection of data onto selected eigenvectors.\n",
        "\n",
        "Feel free to use the methods for eigenvector computation in `np.linalg` library. The solution only needs less than 10 lines of new code if done efficiently.<font color=\"red\">(4 Points)</font>"
      ]
    },
    {
      "cell_type": "code",
      "execution_count": 25,
      "id": "eee41209",
      "metadata": {
        "id": "eee41209"
      },
      "outputs": [],
      "source": [
        "def extract_principal_components(X, components):\n",
        "    \"\"\"\n",
        "    Project data points onto specified principal components.\n",
        "\n",
        "    Args:\n",
        "        X (np.ndarray):                data array of size (N, dim)\n",
        "        components (int or list(int)): indices of principal components, starting at 0\n",
        "    \"\"\"\n",
        "    if isinstance(components, int):\n",
        "        components = [components]\n",
        "\n",
        "    covariance = np.cov(X)\n",
        "    eigenvalues, eigenvectors = np.linalg.eig(covariance)\n",
        "    # Pair eigenvalues with eigenvectors\n",
        "    eigenvalue_eigenvector_pairs = [(eigenvalues[i], eigenvectors[:, i]) for i in range(len(eigenvalues))]\n",
        "\n",
        "    # Sort the pairs by eigenvalues in descending order\n",
        "    sorted_pairs = sorted(eigenvalue_eigenvector_pairs, key=lambda x: x[0], reverse=True)\n",
        "\n",
        "    # Rearrange eigenvectors based on sorted eigenvalues\n",
        "    sorted_eigenvectors = np.column_stack([pair[1] for pair in sorted_pairs])\n",
        "    vectors_components = sorted_eigenvectors[components].reshape((-1,1))\n",
        "    #print(vectors_components.shape)\n",
        "    #print(X.shape)\n",
        "    return vectors_components.T @ X\n",
        "    raise NotImplementedError()\n",
        "\n",
        "def apply_pca(X):\n",
        "    \"\"\"\n",
        "    Apply 2-dimensional projection of data using the first two principal components\n",
        "    \"\"\"\n",
        "    return extract_principal_components(X, [0, 1])"
      ]
    },
    {
      "cell_type": "markdown",
      "id": "b059c937",
      "metadata": {
        "id": "b059c937"
      },
      "source": [
        "**Task 8.1.2.** Compete the code below to compute the variance of our data when projected along each of the first 100 components. <font color=\"red\">(2 Points)</font>\n",
        "\n",
        "If everything is implemented correctly, the plot should be decreasing with the number of principal components, showing that earlier principal components capture more of the variance than susequent ones."
      ]
    },
    {
      "cell_type": "code",
      "execution_count": 27,
      "id": "ca408bac",
      "metadata": {
        "id": "ca408bac"
      },
      "outputs": [
        {
          "data": {
            "application/vnd.jupyter.widget-view+json": {
              "model_id": "c9ca6ac32c3e43c1bbd80b5457100ae5",
              "version_major": 2,
              "version_minor": 0
            },
            "text/plain": [
              "  0%|          | 0/20 [00:00<?, ?it/s]"
            ]
          },
          "metadata": {},
          "output_type": "display_data"
        },
        {
          "name": "stdout",
          "output_type": "stream",
          "text": [
            "(500, 1)\n",
            "(500, 784)\n",
            "(500, 1)\n",
            "(500, 784)\n",
            "(500, 1)\n",
            "(500, 784)\n",
            "(500, 1)\n",
            "(500, 784)\n",
            "(500, 1)\n",
            "(500, 784)\n",
            "(500, 1)\n",
            "(500, 784)\n",
            "(500, 1)\n",
            "(500, 784)\n",
            "(500, 1)\n",
            "(500, 784)\n",
            "(500, 1)\n",
            "(500, 784)\n",
            "(500, 1)\n",
            "(500, 784)\n",
            "(500, 1)\n",
            "(500, 784)\n",
            "(500, 1)\n",
            "(500, 784)\n",
            "(500, 1)\n",
            "(500, 784)\n",
            "(500, 1)\n",
            "(500, 784)\n",
            "(500, 1)\n",
            "(500, 784)\n",
            "(500, 1)\n",
            "(500, 784)\n",
            "(500, 1)\n",
            "(500, 784)\n",
            "(500, 1)\n",
            "(500, 784)\n",
            "(500, 1)\n",
            "(500, 784)\n",
            "(500, 1)\n",
            "(500, 784)\n"
          ]
        },
        {
          "data": {
            "image/png": "[encoded data removed]",
            "text/plain": [
              "<Figure size 432x288 with 1 Axes>"
            ]
          },
          "metadata": {
            "needs_background": "light"
          },
          "output_type": "display_data"
        }
      ],
      "source": [
        "components = range(0, 100, 5)\n",
        "variances = []\n",
        "for component in tqdm(components):\n",
        "    variance = None\n",
        "\n",
        "    pc = extract_principal_components(data, component)\n",
        "    variance = np.var(pc)\n",
        "\n",
        "    variances.append(variance)\n",
        "\n",
        "plt.plot(components, variances)\n",
        "plt.xlabel('component')\n",
        "plt.ylabel('variance')\n",
        "plt.show()"
      ]
    },
    {
      "cell_type": "markdown",
      "id": "20a56309",
      "metadata": {
        "id": "20a56309"
      },
      "source": [
        "Now, let us plot some embeddings of our data. We use two different colors to distinguish points of different labels.\n",
        "\n",
        "The plot on the left is the PCA embedding that uses an implementation of PCA provided in the `scikit-learn` library.\n",
        "\n",
        "The middle plot is the embedding provided by our own implementation of PCA.\n",
        "\n",
        "The plot on the right is an embedding, achieved by projecting the points not on the first two components, but on the 10th and the 11th components."
      ]
    },
    {
      "cell_type": "code",
      "execution_count": null,
      "id": "d3075ceb",
      "metadata": {
        "id": "d3075ceb"
      },
      "outputs": [],
      "source": [
        "plt.subplots(1, 3, figsize=(15, 4))\n",
        "plt.subplot(1, 3, 1)\n",
        "plot_embedding(sklearn.decomposition.PCA(n_components=2).fit_transform(data), labels, 'scikit-learn', legend=False)\n",
        "plt.subplot(1, 3, 2)\n",
        "plot_embedding(apply_pca(data), labels, 'implemented', legend=False)\n",
        "plt.subplot(1, 3, 3)\n",
        "plot_embedding(extract_principal_components(data, [10, 11]), labels, 'not principal (10, 11)')\n",
        "plt.show()"
      ]
    },
    {
      "cell_type": "markdown",
      "id": "b13f346e",
      "metadata": {
        "id": "b13f346e"
      },
      "source": [
        "__Task 8.1.3.__ Are the first two embeddings the same? Is the embedding defined uniquely of is there any potential source of randomness in this embedding method, and if there is, what is it? <font color=\"red\">(2 Point)</font>"
      ]
    },
    {
      "cell_type": "markdown",
      "id": "30bdd965",
      "metadata": {
        "id": "30bdd965"
      },
      "source": [
        "YOUR ANSWER HERE"
      ]
    },
    {
      "cell_type": "markdown",
      "id": "592b01bd",
      "metadata": {
        "id": "592b01bd"
      },
      "source": [
        "__Task 8.1.4.__ What is the main difference between the embedding using the first two components and higher principle components? How would you explain the reason that we see this difference? <font color=\"red\">(2 Points)</font>"
      ]
    },
    {
      "cell_type": "markdown",
      "id": "98db26ad",
      "metadata": {
        "id": "98db26ad"
      },
      "source": [
        "YOUR ANSWER HERE"
      ]
    },
    {
      "cell_type": "markdown",
      "id": "6a6b691d",
      "metadata": {
        "id": "6a6b691d"
      },
      "source": [
        "### 8.2 Dimensionality reduction: Multidimensional Scaling (7 points)"
      ]
    },
    {
      "cell_type": "markdown",
      "id": "5fab9ccc",
      "metadata": {
        "id": "5fab9ccc"
      },
      "source": [
        "Now we will consider another classical and important dimensionality reduction technique, Multidimensional Scaling, or MDS.\n",
        "\n",
        "Unlike PCA, MDS operates not necessarily on data matrix inself, but on the matrix of pairwise distances between points.\n",
        "\n",
        "__Task 8.2.1.__ Let us start by implementing the function that computes all euclidean distances between the points. Please implement the method `compute_euclidean_distances` below. <font color=\"red\">(3 Points)</font>\n",
        "\n",
        "Suggestion: There are methods that can be useful in the package `scipy.spatial.distance`. It is always best to try to avoid explicitly writing for-loops in Python to _vectorize_ the operations, otherwise the code might be running slower."
      ]
    },
    {
      "cell_type": "code",
      "execution_count": null,
      "id": "37ed360f",
      "metadata": {
        "id": "37ed360f"
      },
      "outputs": [],
      "source": [
        "def compute_euclidean_distances(X):\n",
        "    \"\"\"\n",
        "    Returns all pairwise euclidean distances between the points.\n",
        "    Args:\n",
        "        X (np.ndarray): (N, dim) matrix\n",
        "    Returns:\n",
        "        D (np.ndarray): (N, N) matrix\n",
        "    \"\"\"\n",
        "    # YOUR CODE HERE\n",
        "    raise NotImplementedError()\n",
        "\n",
        "euclidean_distances = compute_euclidean_distances(data)\n",
        "assert euclidean_distances.shape == (N, N), 'The matrix of pairwise distances should be square!'"
      ]
    },
    {
      "cell_type": "markdown",
      "id": "c1c77787",
      "metadata": {
        "id": "c1c77787"
      },
      "source": [
        "__Task 8.2.2.__ Now, let us apply the MDS to our data. Please implement the function below. You may use the ready implementation of MDS available in `scikit-learn`, namely `sklearn.manifold.MDS`. <font color=\"red\">(4 Points)</font>"
      ]
    },
    {
      "cell_type": "code",
      "execution_count": null,
      "id": "e115480a",
      "metadata": {
        "id": "e115480a"
      },
      "outputs": [],
      "source": [
        "# MDS\n",
        "def apply_mds(distances):\n",
        "    \"\"\"\n",
        "    Given a square distance matrix, returns a two-dimensional MDS embedding.\n",
        "    Args:\n",
        "        D (np.ndarray): (N, N) matrix\n",
        "    Returns:\n",
        "        E (np.ndarray): (N, 2) matrix\n",
        "    \"\"\"\n",
        "    # YOUR CODE HERE\n",
        "    raise NotImplementedError()\n",
        "\n",
        "original_mds_embedding = apply_mds(euclidean_distances)\n",
        "plot_embedding(original_mds_embedding, labels)"
      ]
    },
    {
      "cell_type": "markdown",
      "id": "53120893",
      "metadata": {
        "id": "53120893"
      },
      "source": [
        "### 8.3 Custom distance functions (7 points)"
      ]
    },
    {
      "cell_type": "markdown",
      "id": "c1c66cdf",
      "metadata": {
        "id": "c1c66cdf"
      },
      "source": [
        "The biggest advantage of MDS compared to PCA is its ability to work with other metrics other than Euclidean.\n",
        "\n",
        "As a start, let us have a bit deeper look at Euclidean metric and how it operates with images. In order to do this analysis, we will implement a couple of functions: `farthest_pair` and `closest_pair`.\n",
        " - `farthest_pair` return a pair of indices of data points of a particular class with the largest distance between them.\n",
        " - `closest_pair` return a pair of indices of data points of two different classes with the shortest distance between them.\n",
        "\n",
        "Farthest pair implementation is already provided and serves as an example of a vectorized implementation that utilizes some more advanced methods and indicing in `numpy`.\n",
        "\n",
        "__Task 8.3.1.__ Please implement the closest pair method. Feel free to use the same technique as in `farthest_pair` or write your own. <font color=\"red\">(2 Points)</font>"
      ]
    },
    {
      "cell_type": "code",
      "execution_count": null,
      "id": "e0bf4928",
      "metadata": {
        "id": "e0bf4928"
      },
      "outputs": [],
      "source": [
        "def farthest_pair(distances, labels, label1):\n",
        "    \"\"\"\n",
        "    Args:\n",
        "        distances (np.ndarray): (N, N) distance matrix\n",
        "        labels (np.ndarray):    (N, ) label array\n",
        "        label1 (int):           class to consider\n",
        "    Returns:\n",
        "        i, j (int, int):        indices of two most distant points of class label1\n",
        "    \"\"\"\n",
        "    # IMPORTANT copy the distances matrix before changing it!\n",
        "    distances = distances.copy()\n",
        "\n",
        "    distances[~(labels == label1), :] = np.nan\n",
        "    distances[:, ~(labels == label1)] = np.nan\n",
        "    distances[range(N), range(N)] = np.nan\n",
        "    flat_index = np.nanargmax(distances)\n",
        "    return np.unravel_index(flat_index, distances.shape)\n",
        "\n",
        "def closest_pair(distances, labels, label1, label2):\n",
        "    \"\"\"\n",
        "    Args:\n",
        "        distances (np.ndarray): (N, N) distance matrix\n",
        "        labels (np.ndarray):    (N, ) label array\n",
        "        label1 (int):           class #1\n",
        "        label2 (int):           class #2\n",
        "    Returns:\n",
        "        i, j (int, int):        indices of two closest points between class label1 and class label2\n",
        "    \"\"\"\n",
        "    # IMPORTANT copy the distances matrix before changing it!\n",
        "    distances = distances.copy()\n",
        "\n",
        "    # YOUR CODE HERE\n",
        "    raise NotImplementedError()"
      ]
    },
    {
      "cell_type": "markdown",
      "id": "4c87e72e",
      "metadata": {
        "id": "4c87e72e"
      },
      "source": [
        "Here are some helper functions to display the results of the functions above, as well as to show the distribution of all pairwise distances between elements of two selected classes."
      ]
    },
    {
      "cell_type": "code",
      "execution_count": null,
      "id": "fd56b5a0",
      "metadata": {
        "id": "fd56b5a0"
      },
      "outputs": [],
      "source": [
        "def plot_closest_pair(distances, labels, label1, label2):\n",
        "    i, j = closest_pair(distances, labels, label1, label2)\n",
        "\n",
        "    print(f'Closest pair between digits {label1} and {label2}')\n",
        "    print(f'Distance: {distances[i, j]:.3f}')\n",
        "\n",
        "    plt.subplots(1, 2, figsize=(6, 3))\n",
        "\n",
        "    plt.subplot(1, 2, 1)\n",
        "    plt.imshow(data[i].reshape(image_shape), cmap='gray')\n",
        "\n",
        "    plt.subplot(1, 2, 2)\n",
        "    plt.imshow(data[j].reshape(image_shape), cmap='gray')\n",
        "\n",
        "    plt.show()\n",
        "\n",
        "def plot_farthest_pair(distances, labels, label1):\n",
        "    i, j = farthest_pair(distances, labels, label1)\n",
        "\n",
        "    print(f'Farthest pair of digits of {label1}')\n",
        "    print(f'Distance: {distances[i, j]:.3f}')\n",
        "\n",
        "    plt.subplots(1, 2, figsize=(6, 3))\n",
        "\n",
        "    plt.subplot(1, 2, 1)\n",
        "    plt.imshow(data[i].reshape(image_shape), cmap='gray')\n",
        "\n",
        "    plt.subplot(1, 2, 2)\n",
        "    plt.imshow(data[j].reshape(image_shape), cmap='gray')\n",
        "\n",
        "    plt.show()\n",
        "\n",
        "def plot_pairwise_distances(distances, labels, label1, label2):\n",
        "    max_distance = np.max(distances[labels == label1, :][:, labels == label2])\n",
        "    bins = np.linspace(0, max_distance, 51)\n",
        "    plt.hist(distances[labels == label1, :][:, labels == label1].flatten(),\n",
        "               bins=bins, alpha=.5, label=f'{label1}-{label1}')\n",
        "    plt.hist(distances[labels == label1, :][:, labels == label2].flatten(),\n",
        "               bins=bins, alpha=.5, label=f'{label1}-{label2}')\n",
        "    plt.legend()\n",
        "    plt.suptitle('Pairwise distance distribution')\n",
        "    plt.show()"
      ]
    },
    {
      "cell_type": "markdown",
      "id": "aa331cdd",
      "metadata": {
        "id": "aa331cdd"
      },
      "source": [
        "Let us have a look at two closest images between __1__ and __6__, and two most distinct images of __1__. Additionally, we display the distribution of distances between different images of __1__ and __6__ and between __1__ and __1__ on the histogram below."
      ]
    },
    {
      "cell_type": "code",
      "execution_count": null,
      "id": "6b16be2c",
      "metadata": {
        "id": "6b16be2c"
      },
      "outputs": [],
      "source": [
        "plot_closest_pair(euclidean_distances, labels, digit1, digit2)\n",
        "plot_farthest_pair(euclidean_distances, labels, digit1)\n",
        "plot_pairwise_distances(euclidean_distances, labels, digit1, digit2)"
      ]
    },
    {
      "cell_type": "markdown",
      "id": "db7f5e7b",
      "metadata": {
        "id": "db7f5e7b"
      },
      "source": [
        "If the implementation `closest_pair` is correct, the image of __1__ and of __6__ should look rather similar.\n",
        "\n",
        "When we look at two images of __1__, even though the digits look quite similar geometrically, they are angled differently. This results in large pixel-wise Euclidean distance between the images.\n",
        "\n",
        "Let us try to build a metric that considers different rotations of an image!\n",
        "\n",
        "__Task 8.3.2.__ First, we need a method that rotates all images to a certain angle. Please implement the method below, the `angle` parameter is provided in degrees, and its sign defines the direction of rotation (you can pick either clockwise or counter-clockwise direction as \"positive\"). <font color=\"red\">(2 Points)</font>\n",
        "\n",
        "_Hint:_ consider using `scipy.ndimage.rotate` for rotation, and be sure to set `reshape=False` for the function in order to keep the scale of images the same.   \n",
        "\n",
        "The small code after the function wil help you verify that the rotations are implemented correctly."
      ]
    },
    {
      "cell_type": "code",
      "execution_count": null,
      "id": "c0bc9a4e",
      "metadata": {
        "id": "c0bc9a4e"
      },
      "outputs": [],
      "source": [
        "def rotate(X, angle):\n",
        "    # YOUR CODE HERE\n",
        "    raise NotImplementedError()\n",
        "\n",
        "angle_list = [-45, -30, -15, 0, 15, 30, 45]\n",
        "for angle in angle_list:\n",
        "    print(f'Rotation angle: {angle}')\n",
        "    plot_examples(rotate(data, angle))\n"
      ]
    },
    {
      "cell_type": "markdown",
      "id": "a3a58dcf",
      "metadata": {
        "id": "a3a58dcf"
      },
      "source": [
        "Now let us define a similarity measure between two images $I$ and $J$ for a set of rotation angles $\\mathcal{A}$ as the following:\n",
        "\n",
        "$$\\text{sim}(I, J) = \\min_{\\alpha \\in \\mathcal{A}}\\lVert{I - \\text{rotate}(J, \\alpha)}\\rVert_2$$\n",
        "\n",
        "where $\\lVert \\cdot \\rVert_2$ denotes the Euclidean distance we have been using so far.\n",
        "\n",
        "__Task 8.3.3.__ Please implement this similarity function below. Note that the function computes the full square matrix of pairwise similarities. Like for Euclidean distances computation, we recommend to utilize the methods in `scipy.spatial.distance` for pairwise distances.\n",
        "\n",
        "In addition, please make sure that the resulting similarity matrix $M$ is __symmetric__, which can be ensured by taking the coordinate-wise average between $M$ and $M^T$ in the end. <font color=\"red\">(2 Points)</font>"
      ]
    },
    {
      "cell_type": "code",
      "execution_count": null,
      "id": "2e414ad2",
      "metadata": {
        "id": "2e414ad2"
      },
      "outputs": [],
      "source": [
        "def compute_rotation_invariant_similarity(X, angle_list):\n",
        "    \"\"\"\n",
        "    Returns all pairwise rotational similarities between the points.\n",
        "    Args:\n",
        "        X (np.ndarray):           (N, dim) matrix\n",
        "        angle_list (list(float)): list of all rotation angles in degrees\n",
        "    Returns:\n",
        "        D (np.ndarray):           (N, N) similarity matrix\n",
        "    \"\"\"\n",
        "    # YOUR CODE HERE\n",
        "    raise NotImplementedError()\n",
        "\n",
        "rotation_invariant_similarities = compute_rotation_invariant_similarity(data, np.linspace(-90, 90, 15))\n",
        "assert rotation_invariant_similarities.shape == (N, N), 'Similarity matrix should have size (N, N)'\n",
        "assert np.all(rotation_invariant_similarities == rotation_invariant_similarities.T), 'Similarity matrix is not symmetric!'"
      ]
    },
    {
      "cell_type": "markdown",
      "id": "fc20c305",
      "metadata": {
        "id": "fc20c305"
      },
      "source": [
        "There is a reason we used a word \"similarity\" instead of \"distance\" or \"metric\" in our definition above. This is due to the fact that the function above does not follow the definition of metric. In fact, it is something that is called __pseudo-metric__. The way a pseudo-metric is different from a metric is that _it allows the distance between distinct points to be zero_ (i.e. $\\text{sim}(I, J) = 0$ is allowed for $I \\neq J$).\n",
        "\n",
        "__Task 8.3.4.__ Could you briefly explain why exactly the rotation similarity is not be a metric in general sense? <font color=\"red\">(1 Point)</font>"
      ]
    },
    {
      "cell_type": "markdown",
      "id": "e1869566",
      "metadata": {
        "id": "e1869566"
      },
      "source": [
        "YOUR ANSWER HERE"
      ]
    },
    {
      "cell_type": "markdown",
      "id": "54ae66ee",
      "metadata": {
        "id": "54ae66ee"
      },
      "source": [
        "For simplicity, we will also call this similarity a _distance_ from now on. To be fair, this pseudo-metric can still be considered a proper metric, but on _classes of equivalent images_."
      ]
    },
    {
      "cell_type": "markdown",
      "id": "2f1aedaa",
      "metadata": {
        "id": "2f1aedaa"
      },
      "source": [
        "Let us plot the image pairs again, now according to rotation similarity, as well as a new distance histogram."
      ]
    },
    {
      "cell_type": "code",
      "execution_count": null,
      "id": "8a85e16e",
      "metadata": {
        "id": "8a85e16e"
      },
      "outputs": [],
      "source": [
        "plot_closest_pair(rotation_invariant_similarities, labels, digit1, digit2)\n",
        "plot_farthest_pair(rotation_invariant_similarities, labels, digit1)\n",
        "plot_pairwise_distances(rotation_invariant_similarities, labels, digit1, digit2)"
      ]
    },
    {
      "cell_type": "markdown",
      "id": "ae456a69",
      "metadata": {
        "id": "ae456a69"
      },
      "source": [
        "We can notice that now the most distinct images of `1` are not as similar looking anymore. Moreover, without context, one might assume that those images are of two completely different characters, and those definitely can't be handled by a rotations.\n",
        "\n",
        "Additionally, the histograms of pairwise distances look more separate than before! This hints us that we might have successfully separated images of `1` and `6` from each other distance-wise."
      ]
    },
    {
      "cell_type": "markdown",
      "id": "7b766558",
      "metadata": {
        "id": "7b766558"
      },
      "source": [
        "Finally, let us plot the two embeddings, one with classical MDS already considered earlier, and one with MDS on rotational similarities."
      ]
    },
    {
      "cell_type": "code",
      "execution_count": null,
      "id": "edb28b57",
      "metadata": {
        "id": "edb28b57"
      },
      "outputs": [],
      "source": [
        "plt.subplots(1, 2, figsize=(12, 4))\n",
        "\n",
        "plt.subplot(1, 2, 1)\n",
        "plot_embedding(apply_mds(euclidean_distances), labels, 'Euclidean distances', legend='False')\n",
        "plt.subplot(1, 2, 2)\n",
        "plot_embedding(apply_mds(rotation_invariant_similarities), labels, 'Rotational similarities')"
      ]
    },
    {
      "cell_type": "markdown",
      "id": "60a81656",
      "metadata": {
        "id": "60a81656"
      },
      "source": [
        "The new embedding should look a bit better separated. Also, the digits of __1__ (dark blue dots) appear more clustered together."
      ]
    }
  ],
  "metadata": {
    "colab": {
      "collapsed_sections": [
        "e3fa7e02",
        "582114ad",
        "216d7b0e",
        "7c9abbbd",
        "062926de",
        "0ced3cb1",
        "6a6b691d",
        "53120893"
      ],
      "include_colab_link": true,
      "provenance": []
    },
    "kernelspec": {
      "display_name": "Python 3",
      "language": "python",
      "name": "python3"
    },
    "language_info": {
      "codemirror_mode": {
        "name": "ipython",
        "version": 3
      },
      "file_extension": ".py",
      "mimetype": "text/x-python",
      "name": "python",
      "nbconvert_exporter": "python",
      "pygments_lexer": "ipython3",
      "version": "3.10.4"
    }
  },
  "nbformat": 4,
  "nbformat_minor": 5
}
